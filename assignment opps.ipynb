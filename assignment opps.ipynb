{
 "cells": [
  {
   "cell_type": "code",
   "execution_count": 2,
   "id": "2e5d1cad-499c-4240-8267-9fa8422228a8",
   "metadata": {},
   "outputs": [],
   "source": [
    "##Create a vehicle class with an init method having instance variables as name_of_vehicle, max_speed\n",
    "#and average_of_vehicle.\n"
   ]
  },
  {
   "cell_type": "code",
   "execution_count": 56,
   "id": "693ad274-4998-4256-b15f-acee42a817a5",
   "metadata": {},
   "outputs": [],
   "source": [
    "class vehicle:\n",
    "    \n",
    "    def __init__(self,name,speed,avg,capacity):\n",
    "        self.name=name\n",
    "        self.speed=speed\n",
    "        self.avg=avg\n",
    "        self.capacity=capacity"
   ]
  },
  {
   "cell_type": "code",
   "execution_count": 57,
   "id": "df838984-2b1e-4fa6-88a3-882aebed0fd5",
   "metadata": {},
   "outputs": [],
   "source": [
    "#Create a child class car from the vehicle class created in Que 1, which will inherit the vehicle class.\n",
    "#Create a method named seating_capacity which takes capacity as an argument and returns the name of\n",
    "#the vehicle and its seating capacity."
   ]
  },
  {
   "cell_type": "code",
   "execution_count": 58,
   "id": "d8c114dd-d66b-4260-9c50-924fd7a930bf",
   "metadata": {},
   "outputs": [],
   "source": [
    "class car(vehicle):\n",
    "    \n",
    "    def seating_capacity(self):\n",
    "        return self.name, self.capacity"
   ]
  },
  {
   "cell_type": "code",
   "execution_count": 59,
   "id": "94f390dd-3381-40de-8d3b-d21b00a3dcc7",
   "metadata": {},
   "outputs": [],
   "source": []
  },
  {
   "cell_type": "code",
   "execution_count": 64,
   "id": "14db4ffc-5bad-4aee-81c1-635ee841d907",
   "metadata": {},
   "outputs": [],
   "source": [
    "obj_car=car('innova',120,30,40)"
   ]
  },
  {
   "cell_type": "code",
   "execution_count": 65,
   "id": "c5a16456-3919-44be-a988-41dade2d114e",
   "metadata": {},
   "outputs": [
    {
     "data": {
      "text/plain": [
       "('innova', 40)"
      ]
     },
     "execution_count": 65,
     "metadata": {},
     "output_type": "execute_result"
    }
   ],
   "source": [
    "obj_car.seating_capacity()"
   ]
  },
  {
   "cell_type": "code",
   "execution_count": 67,
   "id": "5498111a-751a-43f5-8879-2c912efc2109",
   "metadata": {},
   "outputs": [],
   "source": [
    "#What is multiple inheritance? Write a python code to demonstrate multiple inheritance.\n",
    "#Q4. What are getter and setter in python? Create a class and create a getter and a setter method in this\n",
    "#class.\n",
    "#Q5.What is method overriding in python? Write a python code to demonstrate method overriding."
   ]
  },
  {
   "cell_type": "code",
   "execution_count": 68,
   "id": "1aeb1bb3-a89f-4ae0-af02-18ac8c2e6a69",
   "metadata": {},
   "outputs": [],
   "source": [
    "class test1:\n",
    "    \n",
    "    def class1(self):\n",
    "        print(\"This is my test1\")"
   ]
  },
  {
   "cell_type": "code",
   "execution_count": 69,
   "id": "51604fd6-7acb-4689-9092-9e038d373422",
   "metadata": {},
   "outputs": [],
   "source": [
    "class test2:\n",
    "    \n",
    "    def class2(self):\n",
    "        print(\"This is my test2\")"
   ]
  },
  {
   "cell_type": "code",
   "execution_count": 70,
   "id": "0a1010c6-2daf-4987-97da-d548c44b9ff6",
   "metadata": {},
   "outputs": [],
   "source": [
    "class test3(test1,test2):\n",
    "    \n",
    "    def class3(self):\n",
    "        print(\"This is my test2\")"
   ]
  },
  {
   "cell_type": "code",
   "execution_count": 71,
   "id": "276e005a-f00e-4c7d-aa36-460ef700f733",
   "metadata": {},
   "outputs": [],
   "source": [
    "obj_test3=test3()"
   ]
  },
  {
   "cell_type": "code",
   "execution_count": 72,
   "id": "51cf1f42-da59-46c2-9aea-6d8decc8e75b",
   "metadata": {},
   "outputs": [
    {
     "name": "stdout",
     "output_type": "stream",
     "text": [
      "This is my test1\n"
     ]
    }
   ],
   "source": [
    "obj_test3.class1()"
   ]
  },
  {
   "cell_type": "code",
   "execution_count": 73,
   "id": "418c402d-4ce2-40a4-9023-dcec7fac77cb",
   "metadata": {},
   "outputs": [
    {
     "name": "stdout",
     "output_type": "stream",
     "text": [
      "This is my test2\n"
     ]
    }
   ],
   "source": [
    "obj_test3.class2()"
   ]
  },
  {
   "cell_type": "code",
   "execution_count": 96,
   "id": "ccf3bff5-1425-4295-97b3-988f8197b1f7",
   "metadata": {},
   "outputs": [],
   "source": [
    "class bank_account:\n",
    "    \n",
    "    def __init__(self,balance):\n",
    "        \n",
    "        self.__balance=balance\n",
    "       \n",
    "        \n",
    "    def set_balance(self,amount):\n",
    "        self.__balance= self.__balance+amount\n",
    "    \n",
    "    def get_balance(self):\n",
    "         return self.__balance\n",
    "        "
   ]
  },
  {
   "cell_type": "code",
   "execution_count": 97,
   "id": "9c3498b5-fa09-4dcf-851a-3e01db7b5ddc",
   "metadata": {},
   "outputs": [],
   "source": [
    "bnk=bank_account(1000)"
   ]
  },
  {
   "cell_type": "code",
   "execution_count": 98,
   "id": "203b8c3a-d262-40e7-9627-4031c37f13fd",
   "metadata": {},
   "outputs": [],
   "source": [
    "bnk.set_balance(500)"
   ]
  },
  {
   "cell_type": "code",
   "execution_count": 99,
   "id": "8136ae92-4fed-40eb-99d8-0aa56984ffdb",
   "metadata": {},
   "outputs": [
    {
     "data": {
      "text/plain": [
       "1500"
      ]
     },
     "execution_count": 99,
     "metadata": {},
     "output_type": "execute_result"
    }
   ],
   "source": [
    "bnk.get_balance()"
   ]
  },
  {
   "cell_type": "code",
   "execution_count": 116,
   "id": "d6a8a574-b82d-4c3e-b772-d78c886edd08",
   "metadata": {},
   "outputs": [
    {
     "name": "stdout",
     "output_type": "stream",
     "text": [
      "the following operations are\n",
      "118\n",
      "This is the above result\n"
     ]
    }
   ],
   "source": [
    "@deco\n",
    "def test1():\n",
    "    print(49+69)"
   ]
  },
  {
   "cell_type": "code",
   "execution_count": 115,
   "id": "6d92c251-7ed8-4ae6-bebd-5a23bc318ba7",
   "metadata": {},
   "outputs": [
    {
     "name": "stdout",
     "output_type": "stream",
     "text": [
      "the following operations are\n",
      "81\n",
      "This is the above result\n"
     ]
    }
   ],
   "source": [
    "@dmee\n",
    "def test2():\n",
    "    print(9*9)"
   ]
  },
  {
   "cell_type": "code",
   "execution_count": 113,
   "id": "6b3ea07b-ec00-4d75-8881-f7c20f409866",
   "metadata": {},
   "outputs": [],
   "source": [
    "def dmee(func):\n",
    "    def inner_fun():\n",
    "        print(\"the following operations are\")\n",
    "        func()\n",
    "        print(\"This is the above result\")\n",
    "    return inner_fun()\n",
    "    "
   ]
  },
  {
   "cell_type": "code",
   "execution_count": null,
   "id": "ce34fc8e-3ef9-49c9-84e1-084fc0447dc6",
   "metadata": {},
   "outputs": [],
   "source": []
  }
 ],
 "metadata": {
  "kernelspec": {
   "display_name": "Python 3 (ipykernel)",
   "language": "python",
   "name": "python3"
  },
  "language_info": {
   "codemirror_mode": {
    "name": "ipython",
    "version": 3
   },
   "file_extension": ".py",
   "mimetype": "text/x-python",
   "name": "python",
   "nbconvert_exporter": "python",
   "pygments_lexer": "ipython3",
   "version": "3.10.8"
  }
 },
 "nbformat": 4,
 "nbformat_minor": 5
}
